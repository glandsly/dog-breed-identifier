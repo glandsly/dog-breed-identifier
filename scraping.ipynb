{
 "cells": [
  {
   "cell_type": "code",
   "execution_count": 2,
   "metadata": {},
   "outputs": [],
   "source": [
    "# Dependencies\n",
    "from bs4 import BeautifulSoup as bs\n",
    "import requests\n",
    "from splinter import Browser\n",
    "import time\n",
    "import pandas as pd\n",
    "import requests"
   ]
  },
  {
   "cell_type": "code",
   "execution_count": 4,
   "metadata": {
    "tags": []
   },
   "outputs": [
    {
     "output_type": "stream",
     "name": "stdout",
     "text": "2 page(s) completed\n3 page(s) completed\n4 page(s) completed\n5 page(s) completed\n6 page(s) completed\n7 page(s) completed\n8 page(s) completed\n9 page(s) completed\n10 of 10 pages completed. All done!\n"
    }
   ],
   "source": [
    "dog_row = []\n",
    "dog_table = []\n",
    "x = 2\n",
    "\n",
    "executable_path = {'executable_path': 'chromedriver'}\n",
    "browser = Browser('chrome', **executable_path, headless=False)\n",
    "\n",
    "url = \"https://www.austinpetsalive.org/adopt/dogs#puppers\"\n",
    "browser.visit(url)\n",
    "\n",
    "while True:\n",
    "    try:\n",
    "        html = browser.html\n",
    "        soup = bs(html, 'html.parser')\n",
    "\n",
    "\n",
    "        time.sleep(10)\n",
    "        tiles = soup.find_all('div', class_=\"large-tile\")\n",
    "        for tile in tiles:\n",
    "            dog_row = []\n",
    "            img_url = tile.find('img')['src']\n",
    "            img_name = tile.find('img')['alt']\n",
    "            img_data = requests.get(img_url).content\n",
    "            breed = tile.find_all('li', class_=\"burnt-orange\")[2].text\n",
    "\n",
    "            with open(f'images/apa/{img_name}.jpg', 'wb') as handler:\n",
    "                handler.write(img_data)\n",
    "            \n",
    "            dog_row.append(img_name)\n",
    "            dog_row.append(breed)\n",
    "            dog_table.append(dog_row)\n",
    "            \n",
    "        print(f\"{x-1} page(s) completed\") \n",
    "        browser.click_link_by_partial_href(f'https://www.austinpetsalive.org/adopt/dogs/p{x}')\n",
    "        x = x + 1\n",
    "        \n",
    "    except:\n",
    "        print(f\"{x} of {x} pages completed. All done!\")\n",
    "        break"
   ]
  },
  {
   "cell_type": "code",
   "execution_count": 10,
   "metadata": {},
   "outputs": [],
   "source": [
    "dog_df = pd.DataFrame(dog_table)\n",
    "dog_df.to_csv(\"dog_df.csv\", sep=',',index=False, header = False)"
   ]
  },
  {
   "cell_type": "code",
   "execution_count": 12,
   "metadata": {},
   "outputs": [],
   "source": [
    "petfinder_row = []\n",
    "petfinder_table = []\n",
    "x = 0\n",
    "\n",
    "executable_path = {'executable_path': 'chromedriver'}\n",
    "browser = Browser('chrome', **executable_path, headless=False)\n",
    "\n",
    "url = \"https://www.petfinder.com/search/dogs-for-adoption/us/tx/austin/\"\n",
    "browser.visit(url)\n",
    "\n",
    "\n",
    "\n",
    "while True:\n",
    "    try:\n",
    "        html = browser.html\n",
    "        soup = bs(html, 'html.parser')\n",
    "\n",
    "        time.sleep(2)\n",
    "        x = x + 1\n",
    "        tiles = soup.find_all('pfdc-pet-card')\n",
    "\n",
    "        for tile in tiles:\n",
    "            petfinder_row = []\n",
    "\n",
    "            # scrape name if needed\n",
    "            # tile.find('span').text\n",
    "            img_url = tile.find('pfdc-lazy-load')['src']\n",
    "            img_name = tile.find('pfdc-favorite-btn')['pet-id']\n",
    "            img_data = requests.get(img_url).content\n",
    "            breed = tile.find_all('li')[2].text\n",
    "\n",
    "            with open(f'images/apa/{img_name}.jpg', 'wb') as handler:\n",
    "            handler.write(img_data)\n",
    "\n",
    "            petfinder_row.append(img_name)\n",
    "            petfinder_row.append(breed)\n",
    "            petfinder_table.append(petfinder_row)\n",
    "\n",
    "        browser.find_option_by_text(\"next\").first.click()"
   ]
  },
  {
   "cell_type": "code",
   "execution_count": 20,
   "metadata": {},
   "outputs": [],
   "source": [
    "for tile in tiles:\n",
    "    petfinder_row = []\n",
    "\n",
    "    # scrape name if needed\n",
    "    # tile.find('span').text\n",
    "    img_url = tile.find('pfdc-lazy-load')['src']\n",
    "    img_name = tile.find('pfdc-favorite-btn')['pet-id']\n",
    "    img_data = requests.get(img_url).content\n",
    "    breed = tile.find_all('li')[2].text\n",
    "\n",
    "    with open(f'images/apa/{img_name}.jpg', 'wb') as handler:\n",
    "    handler.write(img_data)\n",
    "\n",
    "    petfinder_row.append(img_name)\n",
    "    petfinder_row.append(breed)\n",
    "    petfinder_table.append(petfinder_row)            "
   ]
  },
  {
   "cell_type": "code",
   "execution_count": 41,
   "metadata": {},
   "outputs": [
    {
     "output_type": "error",
     "ename": "ElementDoesNotExist",
     "evalue": "no elements could be found with option by text \"Next\"",
     "traceback": [
      "\u001b[1;31m---------------------------------------------------------------------------\u001b[0m",
      "\u001b[1;31mIndexError\u001b[0m                                Traceback (most recent call last)",
      "\u001b[1;32m~\\Anaconda3\\lib\\site-packages\\splinter\\element_list.py\u001b[0m in \u001b[0;36m__getitem__\u001b[1;34m(self, index)\u001b[0m\n\u001b[0;32m     41\u001b[0m         \u001b[1;32mtry\u001b[0m\u001b[1;33m:\u001b[0m\u001b[1;33m\u001b[0m\u001b[1;33m\u001b[0m\u001b[0m\n\u001b[1;32m---> 42\u001b[1;33m             \u001b[1;32mreturn\u001b[0m \u001b[0mself\u001b[0m\u001b[1;33m.\u001b[0m\u001b[0m_container\u001b[0m\u001b[1;33m[\u001b[0m\u001b[0mindex\u001b[0m\u001b[1;33m]\u001b[0m\u001b[1;33m\u001b[0m\u001b[1;33m\u001b[0m\u001b[0m\n\u001b[0m\u001b[0;32m     43\u001b[0m         \u001b[1;32mexcept\u001b[0m \u001b[0mIndexError\u001b[0m\u001b[1;33m:\u001b[0m\u001b[1;33m\u001b[0m\u001b[1;33m\u001b[0m\u001b[0m\n",
      "\u001b[1;31mIndexError\u001b[0m: list index out of range",
      "\nDuring handling of the above exception, another exception occurred:\n",
      "\u001b[1;31mElementDoesNotExist\u001b[0m                       Traceback (most recent call last)",
      "\u001b[1;32m<ipython-input-41-098bc8ee0797>\u001b[0m in \u001b[0;36m<module>\u001b[1;34m\u001b[0m\n\u001b[1;32m----> 1\u001b[1;33m \u001b[0mbrowser\u001b[0m\u001b[1;33m.\u001b[0m\u001b[0mfind_option_by_text\u001b[0m\u001b[1;33m(\u001b[0m\u001b[1;34m\"Next\"\u001b[0m\u001b[1;33m)\u001b[0m\u001b[1;33m.\u001b[0m\u001b[0mfirst\u001b[0m\u001b[1;33m.\u001b[0m\u001b[0mclick\u001b[0m\u001b[1;33m(\u001b[0m\u001b[1;33m)\u001b[0m\u001b[1;33m\u001b[0m\u001b[1;33m\u001b[0m\u001b[0m\n\u001b[0m",
      "\u001b[1;32m~\\Anaconda3\\lib\\site-packages\\splinter\\element_list.py\u001b[0m in \u001b[0;36mfirst\u001b[1;34m(self)\u001b[0m\n\u001b[0;32m     55\u001b[0m             \u001b[1;33m>>\u001b[0m\u001b[1;33m>\u001b[0m \u001b[1;32massert\u001b[0m \u001b[0melement_list\u001b[0m\u001b[1;33m[\u001b[0m\u001b[1;36m0\u001b[0m\u001b[1;33m]\u001b[0m \u001b[1;33m==\u001b[0m \u001b[0melement_list\u001b[0m\u001b[1;33m.\u001b[0m\u001b[0mfirst\u001b[0m\u001b[1;33m\u001b[0m\u001b[1;33m\u001b[0m\u001b[0m\n\u001b[0;32m     56\u001b[0m         \"\"\"\n\u001b[1;32m---> 57\u001b[1;33m         \u001b[1;32mreturn\u001b[0m \u001b[0mself\u001b[0m\u001b[1;33m[\u001b[0m\u001b[1;36m0\u001b[0m\u001b[1;33m]\u001b[0m\u001b[1;33m\u001b[0m\u001b[1;33m\u001b[0m\u001b[0m\n\u001b[0m\u001b[0;32m     58\u001b[0m \u001b[1;33m\u001b[0m\u001b[0m\n\u001b[0;32m     59\u001b[0m     \u001b[1;33m@\u001b[0m\u001b[0mproperty\u001b[0m\u001b[1;33m\u001b[0m\u001b[1;33m\u001b[0m\u001b[0m\n",
      "\u001b[1;32m~\\Anaconda3\\lib\\site-packages\\splinter\\element_list.py\u001b[0m in \u001b[0;36m__getitem__\u001b[1;34m(self, index)\u001b[0m\n\u001b[0;32m     44\u001b[0m             raise ElementDoesNotExist(\n\u001b[0;32m     45\u001b[0m                 u'no elements could be found with {0} \"{1}\"'.format(\n\u001b[1;32m---> 46\u001b[1;33m                     \u001b[0mself\u001b[0m\u001b[1;33m.\u001b[0m\u001b[0mfind_by\u001b[0m\u001b[1;33m,\u001b[0m \u001b[0mself\u001b[0m\u001b[1;33m.\u001b[0m\u001b[0mquery\u001b[0m\u001b[1;33m\u001b[0m\u001b[1;33m\u001b[0m\u001b[0m\n\u001b[0m\u001b[0;32m     47\u001b[0m                 )\n\u001b[0;32m     48\u001b[0m             )\n",
      "\u001b[1;31mElementDoesNotExist\u001b[0m: no elements could be found with option by text \"Next\""
     ]
    }
   ],
   "source": [
    "browser.find_option_by_text(\"Next\").first.click()"
   ]
  },
  {
   "cell_type": "code",
   "execution_count": 17,
   "metadata": {},
   "outputs": [
    {
     "output_type": "execute_result",
     "data": {
      "text/plain": "<pfdc-pet-card class=\"petCard petCard_result\" data-test=\"Search_Results_Pet_Card_List\" id=\"petId_47192182\" offset=\"39\" pet-id=\"47192182\" set-last-pet-cookie=\"\">\n<a aria-label=\"Diamond, adoptable Dog, Young Female Dachshund &amp; Chihuahua Mix\" class=\"petCard-link\" href=\"https://www.petfinder.com/dog/diamond-47192182/tx/austin/central-texas-dachshund-rescue-tx562/\" pfdc-pet-card-link=\"\">\n<pfdc-lazy-load alt=\"Diamond, adoptable Dog, Young Female Dachshund &amp; Chihuahua Mix\" aria-hidden=\"true\" class=\"petCard-media\" element=\"img\" img-animation-class=\"m-petCard-media-img_reveal\" img-class=\"petCard-media-img\" sizes=\"300px\" src=\"https://dl5zpyw5k3jeb.cloudfront.net/photos/pets/47192182/1/?bust=1594786972&amp;width=300\" srcset=\"\n                                https://dl5zpyw5k3jeb.cloudfront.net/photos/pets/47192182/1/?bust=1594786972&amp;width=300 300w,\n                                https://dl5zpyw5k3jeb.cloudfront.net/photos/pets/47192182/1/?bust=1594786972&amp;width=450 450w,\n                                https://dl5zpyw5k3jeb.cloudfront.net/photos/pets/47192182/1/?bust=1594786972&amp;width=600 600w\"></pfdc-lazy-load>\n<div class=\"petCard-body\">\n<div class=\"petCard-body-details\">\n<div class=\"petCard-body-details-hdg\">\n<span aria-hidden=\"true\" data-test=\"Pet_Card_Pet_Details_List\">Diamond</span>\n<span class=\"u-isVisuallyHidden\">Diamond, adoptable Dog, Young Female Dachshund &amp; Chihuahua Mix</span>\n</div>\n<div class=\"txt m-txt_colorPrimaryS2\">\n<ul>\n<li>\n<ul class=\"hrArray hrArray_bulletDividedSingleLine m-hrArray_center\">\n<li>Young</li>\n<li><pf-truncate class=\"txt m-txt_colorPrimaryS2\" line-count=\"1\">Dachshund &amp; Chihuahua Mix</pf-truncate></li>\n</ul>\n</li>\n<li>\n<div class=\"txt m-txt_colorPrimaryS2 m-txt_ellipsisOverflow\">\n                    1 mile away\n                </div>\n</li>\n</ul>\n</div>\n</div>\n</div>\n</a>\n<pfdc-favorite-btn class=\"petCard-favoriteBtn\" pet-id=\"47192182\" pet-index=\"39\" pet-name=\"Diamond\" search-result=\"\">\n<button aria-label=\"Add Diamond to your favorites\" class=\"favoriteBtn s-favoriteBtn_awaiting\">\n<svg role=\"img\" xmlns=\"http://www.w3.org/2000/svg\">\n<use xlink:href=\"#icon-favorite_outline\" xmlns:xlink=\"http://www.w3.org/1999/xlink\"></use>\n</svg>\n</button>\n</pfdc-favorite-btn>\n</pfdc-pet-card>"
     },
     "metadata": {},
     "execution_count": 17
    }
   ],
   "source": [
    "tile"
   ]
  },
  {
   "cell_type": "code",
   "execution_count": 22,
   "metadata": {},
   "outputs": [],
   "source": [
    "img_url"
   ]
  },
  {
   "cell_type": "code",
   "execution_count": null,
   "metadata": {},
   "outputs": [],
   "source": []
  }
 ],
 "metadata": {
  "language_info": {
   "codemirror_mode": {
    "name": "ipython",
    "version": 3
   },
   "file_extension": ".py",
   "mimetype": "text/x-python",
   "name": "python",
   "nbconvert_exporter": "python",
   "pygments_lexer": "ipython3",
   "version": "3.7.4-final"
  },
  "orig_nbformat": 2,
  "kernelspec": {
   "name": "python37464bitbasecondae23b6954b40a4ff4aa0c89b9b80c30af",
   "display_name": "Python 3.7.4 64-bit ('base': conda)"
  }
 },
 "nbformat": 4,
 "nbformat_minor": 2
}