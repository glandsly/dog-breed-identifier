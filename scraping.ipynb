{
 "cells": [
  {
   "cell_type": "code",
   "execution_count": 3,
   "metadata": {},
   "outputs": [],
   "source": [
    "# Dependencies\n",
    "from bs4 import BeautifulSoup as bs\n",
    "import requests\n",
    "from splinter import Browser\n",
    "import time\n",
    "import pandas as pd\n",
    "import requests"
   ]
  },
  {
   "cell_type": "code",
   "execution_count": 4,
   "metadata": {
    "tags": []
   },
   "outputs": [
    {
     "output_type": "stream",
     "name": "stdout",
     "text": "2 page(s) completed\n3 page(s) completed\n4 page(s) completed\n5 page(s) completed\n6 page(s) completed\n7 page(s) completed\n8 page(s) completed\n9 page(s) completed\n10 of 10 pages completed. All done!\n"
    }
   ],
   "source": [
    "dog_row = []\n",
    "dog_table = []\n",
    "x = 2\n",
    "\n",
    "executable_path = {'executable_path': 'chromedriver'}\n",
    "browser = Browser('chrome', **executable_path, headless=False)\n",
    "\n",
    "url = \"https://www.austinpetsalive.org/adopt/dogs#puppers\"\n",
    "browser.visit(url)\n",
    "\n",
    "while True:\n",
    "    try:\n",
    "        html = browser.html\n",
    "        soup = bs(html, 'html.parser')\n",
    "\n",
    "\n",
    "        time.sleep(10)\n",
    "        tiles = soup.find_all('div', class_=\"large-tile\")\n",
    "        for tile in tiles:\n",
    "            dog_row = []\n",
    "            img_url = tile.find('img')['src']\n",
    "            img_name = tile.find('img')['alt']\n",
    "            img_data = requests.get(img_url).content\n",
    "            breed = tile.find_all('li', class_=\"burnt-orange\")[2].text\n",
    "\n",
    "            with open(f'images/apa/{img_name}.jpg', 'wb') as handler:\n",
    "                handler.write(img_data)\n",
    "            \n",
    "            dog_row.append(img_name)\n",
    "            dog_row.append(breed)\n",
    "            dog_table.append(dog_row)\n",
    "            \n",
    "        print(f\"{x-1} page(s) completed\") \n",
    "        browser.click_link_by_partial_href(f'https://www.austinpetsalive.org/adopt/dogs/p{x}')\n",
    "        x = x + 1\n",
    "        \n",
    "    except:\n",
    "        print(f\"{x} of {x} pages completed. All done!\")\n",
    "        break"
   ]
  },
  {
   "cell_type": "code",
   "execution_count": 10,
   "metadata": {},
   "outputs": [],
   "source": [
    "dog_df = pd.DataFrame(dog_table)\n",
    "dog_df.to_csv(\"dog_df.csv\", sep=',',index=False, header = False)"
   ]
  },
  {
   "cell_type": "code",
   "execution_count": null,
   "metadata": {},
   "outputs": [],
   "source": []
  }
 ],
 "metadata": {
  "language_info": {
   "codemirror_mode": {
    "name": "ipython",
    "version": 3
   },
   "file_extension": ".py",
   "mimetype": "text/x-python",
   "name": "python",
   "nbconvert_exporter": "python",
   "pygments_lexer": "ipython3",
   "version": "3.7.4-final"
  },
  "orig_nbformat": 2,
  "kernelspec": {
   "name": "python37464bitbasecondae23b6954b40a4ff4aa0c89b9b80c30af",
   "display_name": "Python 3.7.4 64-bit ('base': conda)"
  }
 },
 "nbformat": 4,
 "nbformat_minor": 2
}