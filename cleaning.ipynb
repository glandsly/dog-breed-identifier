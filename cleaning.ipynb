{
 "cells": [
  {
   "cell_type": "code",
   "execution_count": 1,
   "metadata": {},
   "outputs": [],
   "source": [
    "import pandas as pd"
   ]
  },
  {
   "cell_type": "code",
   "execution_count": 2,
   "metadata": {},
   "outputs": [],
   "source": [
    "dog_df = pd.read_csv('dog_df.csv', header = None)"
   ]
  },
  {
   "cell_type": "code",
   "execution_count": 3,
   "metadata": {},
   "outputs": [],
   "source": [
    "dog_df[1] = dog_df[1].str.split(\"/\",expand= True)\n",
    "dog_df[1] = [\"\".join(n.split(\", \")[::-1]) for n in dog_df[1]]\n",
    "dog_df[1] = dog_df[1].str.strip()\n",
    "dog_df[1] = dog_df[1].replace(\" \",\"_\", regex=True)"
   ]
  },
  {
   "cell_type": "code",
   "execution_count": 6,
   "metadata": {},
   "outputs": [],
   "source": [
    "dog_df.to_csv('dog_df.csv', header = None, index=None)"
   ]
  },
  {
   "cell_type": "code",
   "execution_count": 18,
   "metadata": {},
   "outputs": [],
   "source": [
    "petfinder_df = pd.read_csv('petfinder_df.csv', header = None)"
   ]
  },
  {
   "cell_type": "code",
   "execution_count": 21,
   "metadata": {},
   "outputs": [],
   "source": [
    "petfinder_df[1] = petfinder_df[1].str.rstrip('Mix')\n",
    "petfinder_df[1] = petfinder_df[1].str.strip()\n",
    "petfinder_df[1] = petfinder_df[1].replace(\" \",\"_\", regex=True)"
   ]
  },
  {
   "cell_type": "code",
   "execution_count": 22,
   "metadata": {},
   "outputs": [
    {
     "output_type": "execute_result",
     "data": {
      "text/plain": "             0                                                  1\n0     48494115  Nova_Scotia_Duck_Tolling_Retriever_&_Cocker_Sp...\n1     48492530                                          Dachshund\n2     48487320                                     Cocker_Spaniel\n3     48478383                                   Pit_Bull_Terrier\n4     48462847                                          Greyhound\n...        ...                                                ...\n2441  47470347                                Rhodesian_Ridgeback\n2442  47448950                                   Pit_Bull_Terrier\n2443  47388998                        Shar-Pei_&_Pit_Bull_Terrier\n2444  47159844      Pit_Bull_Terrier_&_Greater_Swiss_Mountain_Dog\n2445  47062234                                   Pit_Bull_Terrier\n\n[2446 rows x 2 columns]",
      "text/html": "<div>\n<style scoped>\n    .dataframe tbody tr th:only-of-type {\n        vertical-align: middle;\n    }\n\n    .dataframe tbody tr th {\n        vertical-align: top;\n    }\n\n    .dataframe thead th {\n        text-align: right;\n    }\n</style>\n<table border=\"1\" class=\"dataframe\">\n  <thead>\n    <tr style=\"text-align: right;\">\n      <th></th>\n      <th>0</th>\n      <th>1</th>\n    </tr>\n  </thead>\n  <tbody>\n    <tr>\n      <td>0</td>\n      <td>48494115</td>\n      <td>Nova_Scotia_Duck_Tolling_Retriever_&amp;_Cocker_Sp...</td>\n    </tr>\n    <tr>\n      <td>1</td>\n      <td>48492530</td>\n      <td>Dachshund</td>\n    </tr>\n    <tr>\n      <td>2</td>\n      <td>48487320</td>\n      <td>Cocker_Spaniel</td>\n    </tr>\n    <tr>\n      <td>3</td>\n      <td>48478383</td>\n      <td>Pit_Bull_Terrier</td>\n    </tr>\n    <tr>\n      <td>4</td>\n      <td>48462847</td>\n      <td>Greyhound</td>\n    </tr>\n    <tr>\n      <td>...</td>\n      <td>...</td>\n      <td>...</td>\n    </tr>\n    <tr>\n      <td>2441</td>\n      <td>47470347</td>\n      <td>Rhodesian_Ridgeback</td>\n    </tr>\n    <tr>\n      <td>2442</td>\n      <td>47448950</td>\n      <td>Pit_Bull_Terrier</td>\n    </tr>\n    <tr>\n      <td>2443</td>\n      <td>47388998</td>\n      <td>Shar-Pei_&amp;_Pit_Bull_Terrier</td>\n    </tr>\n    <tr>\n      <td>2444</td>\n      <td>47159844</td>\n      <td>Pit_Bull_Terrier_&amp;_Greater_Swiss_Mountain_Dog</td>\n    </tr>\n    <tr>\n      <td>2445</td>\n      <td>47062234</td>\n      <td>Pit_Bull_Terrier</td>\n    </tr>\n  </tbody>\n</table>\n<p>2446 rows × 2 columns</p>\n</div>"
     },
     "metadata": {},
     "execution_count": 22
    }
   ],
   "source": [
    "petfinder_df.to_csv('petfinder_cleaned.csv', header = None, index=None)"
   ]
  },
  {
   "cell_type": "code",
   "execution_count": null,
   "metadata": {},
   "outputs": [],
   "source": []
  }
 ],
 "metadata": {
  "language_info": {
   "codemirror_mode": {
    "name": "ipython",
    "version": 3
   },
   "file_extension": ".py",
   "mimetype": "text/x-python",
   "name": "python",
   "nbconvert_exporter": "python",
   "pygments_lexer": "ipython3",
   "version": "3.7.4-final"
  },
  "orig_nbformat": 2,
  "kernelspec": {
   "name": "python37464bitbasecondae23b6954b40a4ff4aa0c89b9b80c30af",
   "display_name": "Python 3.7.4 64-bit ('base': conda)"
  }
 },
 "nbformat": 4,
 "nbformat_minor": 2
}